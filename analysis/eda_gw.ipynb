{
 "cells": [
  {
   "cell_type": "markdown",
   "id": "46fda6a7",
   "metadata": {},
   "source": [
    "---\n",
    "title: Initial Exploratory Data Analysis\n",
    "author: George Whittington\n",
    "date: today\n",
    "date-format: long\n",
    "\n",
    "format:\n",
    "    html:\n",
    "        embed-resources: true\n",
    "        toc: true\n",
    "        theme: solar\n",
    "        title-block: true\n",
    "---"
   ]
  },
  {
   "cell_type": "markdown",
   "id": "3ad3f338",
   "metadata": {},
   "source": []
  }
 ],
 "metadata": {
  "language_info": {
   "name": "python"
  }
 },
 "nbformat": 4,
 "nbformat_minor": 5
}
