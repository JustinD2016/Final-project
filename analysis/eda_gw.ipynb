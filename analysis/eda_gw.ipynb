{
 "cells": [
  {
   "cell_type": "markdown",
   "id": "46fda6a7",
   "metadata": {},
   "source": [
    "---\n",
    "title: Initial Exploratory Data Analysis\n",
    "author: George Whittington\n",
    "date: today\n",
    "date-format: long\n",
    "\n",
    "format:\n",
    "    html:\n",
    "        embed-resources: true\n",
    "        toc: true\n",
    "        theme: solar\n",
    "        title-block: true\n",
    "---"
   ]
  },
  {
   "cell_type": "markdown",
   "id": "3ad3f338",
   "metadata": {},
   "source": [
    "## Libraries"
   ]
  },
  {
   "cell_type": "code",
   "execution_count": 2,
   "id": "909f4382",
   "metadata": {},
   "outputs": [],
   "source": [
    "import polars as pl\n",
    "\n",
    "import matplotlib.pyplot as plt\n",
    "import seaborn as sns\n",
    "\n",
    "plt.style.use(\"ggplot\")"
   ]
  },
  {
   "cell_type": "markdown",
   "id": "e5771b85",
   "metadata": {},
   "source": [
    "## Annual Data"
   ]
  },
  {
   "cell_type": "code",
   "execution_count": 10,
   "id": "4aacad3c",
   "metadata": {},
   "outputs": [],
   "source": [
    "annual = pl.read_csv(\"../data/combined_bank_data_annual_FIXED.csv\", null_values=\"NA\")"
   ]
  },
  {
   "cell_type": "code",
   "execution_count": 11,
   "id": "2730dcd6",
   "metadata": {},
   "outputs": [
    {
     "data": {
      "text/plain": [
       "(4233, 45)"
      ]
     },
     "execution_count": 11,
     "metadata": {},
     "output_type": "execute_result"
    }
   ],
   "source": [
    "annual.shape"
   ]
  },
  {
   "cell_type": "code",
   "execution_count": 18,
   "id": "31d17fb0",
   "metadata": {},
   "outputs": [],
   "source": [
    "# TODO: Check dtypes of each column, particularly if any are String instead of Numeric"
   ]
  },
  {
   "cell_type": "markdown",
   "id": "5dcdc056",
   "metadata": {},
   "source": [
    "## Quarterly Data"
   ]
  },
  {
   "cell_type": "code",
   "execution_count": 9,
   "id": "6a3d4ce7",
   "metadata": {},
   "outputs": [],
   "source": [
    "quarterly = pl.read_csv(\n",
    "    \"../data/combined_bank_data_quarterly_CLEANED.csv\",\n",
    "    schema_overrides={\"Total_Deposits_EOQ\":pl.Float64},\n",
    "    null_values=\"NA\"\n",
    ")"
   ]
  },
  {
   "cell_type": "markdown",
   "id": "1290e2de",
   "metadata": {},
   "source": [
    "`schema_overrides={\"Total_Deposits_EOQ\":pl.Float64}` to properly read in scientific notation values as floating point numbers"
   ]
  },
  {
   "cell_type": "code",
   "execution_count": 12,
   "id": "5e84ba16",
   "metadata": {},
   "outputs": [
    {
     "data": {
      "text/plain": [
       "(17230, 656)"
      ]
     },
     "execution_count": 12,
     "metadata": {},
     "output_type": "execute_result"
    }
   ],
   "source": [
    "quarterly.shape"
   ]
  },
  {
   "cell_type": "code",
   "execution_count": 19,
   "id": "e76a5a2a",
   "metadata": {},
   "outputs": [],
   "source": [
    "# TODO: Check dtypes of each column, particularly if any are String instead of Numeric"
   ]
  },
  {
   "cell_type": "code",
   "execution_count": null,
   "id": "7ca9c34d",
   "metadata": {},
   "outputs": [],
   "source": []
  }
 ],
 "metadata": {
  "kernelspec": {
   "display_name": ".venv",
   "language": "python",
   "name": "python3"
  },
  "language_info": {
   "codemirror_mode": {
    "name": "ipython",
    "version": 3
   },
   "file_extension": ".py",
   "mimetype": "text/x-python",
   "name": "python",
   "nbconvert_exporter": "python",
   "pygments_lexer": "ipython3",
   "version": "3.14.0"
  }
 },
 "nbformat": 4,
 "nbformat_minor": 5
}
